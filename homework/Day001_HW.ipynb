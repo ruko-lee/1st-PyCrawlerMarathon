{
 "cells": [
  {
   "cell_type": "markdown",
   "metadata": {},
   "source": [
    "# 作業內容#\n",
    "1.（簡答題）檔案、API、爬蟲三種取得資料方式有什麼不同？\n",
    "\n",
    "ANS:\n",
    "* 檔案：資料會包成檔案提供下載，常用的標準格式有CSV、JSON、XML等通用格式。\n",
    "* API：提供程式化的連接接口，可選擇資料中需要的部份，無需事先完整下載。\n",
    "* 爬蟲：將網頁的資料解析，透過爬蟲程式取得所需的資料"
   ]
  },
  {
   "cell_type": "markdown",
   "metadata": {},
   "source": [
    "2.（實作）完成一個程式，需滿足下列需求：\n",
    "\n",
    "* 「下載指定檔案到 Data 資料夾，存成檔名 Homework.txt」的檔案網址：https://www.w3.org/TR/PNG/iso_8859-1.txt 或任一個 .txt 的檔案網址\n",
    "\n",
    "* 檢查 Data 資料夾是否有 Homework.txt 檔名之檔案"
   ]
  },
  {
   "cell_type": "code",
   "execution_count": 2,
   "metadata": {},
   "outputs": [],
   "source": [
    "from urllib.request import urlretrieve"
   ]
  },
  {
   "cell_type": "code",
   "execution_count": 5,
   "metadata": {},
   "outputs": [],
   "source": [
    "import os\n",
    "from pathlib import Path"
   ]
  },
  {
   "cell_type": "code",
   "execution_count": 11,
   "metadata": {},
   "outputs": [],
   "source": [
    "URL = 'https://www.w3.org/TR/PNG/iso_8859-1.txt'\n",
    "if not os.path.exists(os.path.join(os.getcwd(),'./data/Homework.txt')):\n",
    "    urlretrieve(URL, './data/Homework.txt')"
   ]
  },
  {
   "cell_type": "markdown",
   "metadata": {},
   "source": [
    "將「Hello World」字串覆寫到 Homework.txt 檔案\n",
    "\n",
    "檢查 Homework.txt 檔案字數是否符合 Hello World 字數"
   ]
  },
  {
   "cell_type": "code",
   "execution_count": 14,
   "metadata": {},
   "outputs": [],
   "source": [
    "fh=open(\"./data/Homework.txt\",\"w\")\n",
    "fh.write(\"Hello World\")\n",
    "fh.close()"
   ]
  },
  {
   "cell_type": "code",
   "execution_count": 22,
   "metadata": {},
   "outputs": [
    {
     "name": "stdout",
     "output_type": "stream",
     "text": [
      "[O] Homework.txt 檔案字數符合 Hello World 字數\n"
     ]
    }
   ],
   "source": [
    "fh=open(\"./data/Homework.txt\",\"r\")\n",
    "\n",
    "if len('Hello World') == len(fh.read()):\n",
    "    print('[O] Homework.txt 檔案字數符合 Hello World 字數')\n",
    "else:\n",
    "    print('[X] Homework.txt 檔案字數不符合 Hello World 字數')"
   ]
  },
  {
   "cell_type": "code",
   "execution_count": null,
   "metadata": {},
   "outputs": [],
   "source": []
  }
 ],
 "metadata": {
  "kernelspec": {
   "display_name": "Python 3",
   "language": "python",
   "name": "python3"
  },
  "language_info": {
   "codemirror_mode": {
    "name": "ipython",
    "version": 3
   },
   "file_extension": ".py",
   "mimetype": "text/x-python",
   "name": "python",
   "nbconvert_exporter": "python",
   "pygments_lexer": "ipython3",
   "version": "3.6.5"
  }
 },
 "nbformat": 4,
 "nbformat_minor": 2
}
