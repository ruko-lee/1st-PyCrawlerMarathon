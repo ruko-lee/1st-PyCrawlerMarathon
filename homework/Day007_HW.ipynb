{
 "cells": [
  {
   "cell_type": "markdown",
   "metadata": {},
   "source": [
    "# HTTP 靜態網頁架構說明\n",
    "\n",
    "* 認識靜態網頁的溝通架構與運作原理\n",
    "* HTML、CSS、JavaScript 在網頁中扮演的角色\n",
    "* 網頁中定位資料的方法"
   ]
  },
  {
   "cell_type": "markdown",
   "metadata": {},
   "source": [
    "## 作業目標\n",
    "\n",
    "1. （簡答題）請問目前提到的這種基於 HTTP 一來一回的網頁傳輸方式，有哪些缺點及問題？\n",
    "2. （簡答題）網頁中使用的 JavaScipt 程式語言，跟我們一般使用的 Python 在執行上有什麼不同。\n"
   ]
  },
  {
   "cell_type": "markdown",
   "metadata": {},
   "source": [
    "### 1.（簡答題）請問目前提到的這種基於 HTTP 一來一回的網頁傳輸方式，有哪些缺點及問題？"
   ]
  },
  {
   "cell_type": "markdown",
   "metadata": {},
   "source": [
    "1) 傳輸速度慢,資料包大(Http協議中包含輔助應用資訊)  \n",
    "2) 資料傳輸安全性差: 經由使用者發出request, 伺服器收到之後處理response, 中間過程未進行身分驗證, 易被竊改 or 偽裝, 亦無法確保訊息之完整性。"
   ]
  },
  {
   "cell_type": "markdown",
   "metadata": {},
   "source": [
    "### 2. （簡答題）網頁中使用的 JavaScipt 程式語言，跟我們一般使用的 Python 在執行上有什麼不同。"
   ]
  },
  {
   "cell_type": "markdown",
   "metadata": {},
   "source": [
    "Javascript：  \n",
    "1) 是一種客戶端的指令碼語言，主要應用於瀏覽器，它的語法主要借鑑了C  \n",
    "2) 物件導向是基於原型（prototype）的， 物件的繼承是由原型（也是物件）建立出來的，由原型物件建立出來的物件繼承了原型鏈上的方法。  \n",
    "3) 沒有多執行緒的概念的，併發使用過使用事件驅動的方式來進行，所有的JavaScript程式都執行在一個執行緒中。  \n",
    "4) 所有的資料型別都是可以改變的。  \n",
    "5) 資料型別比較簡單，有object、string、boolean、number、null和undefined，總共六種  \n",
    "6) 採用UTF16編碼。  \n",
    "7) 所有的數值型別都是實現為64位浮點數。支援NaN(Not a number)，正負無窮大（ /-Infiity）。  \n",
    "8) 內建了array型別  \n",
    "9) 空值的呈現方式：undefined表示變數沒有被初始化，null表示變數已經初始化但是值為空。  \n",
    "10) 判斷相等（==）和全等（===）兩種相等的判斷。其它的邏輯運算子有&& 和||，和C語言類似。\n",
    "\n",
    "Python：  \n",
    "1) “優雅”，“明確”，“簡單”的設計而廣受歡迎，被應用於教育，科學計算，web開發等不同的場景中。  \n",
    "2) 基於類（class）的繼承，並支援多型（polymophine）。  \n",
    "3) 通過thread包支援多執行緒。 \n",
    "4) 有些資料型別是不可改變的。  \n",
    "5) 五個內建的簡單資料型別bool、int、long、float和complex，還有容器型別，程式碼型別，內部型別等等。  \n",
    "6) 使用ASCII碼。需要呼叫encode、decode來進行編碼轉換。  \n",
    "7) 擁有諸多的數值型別，其中的複數型別非常方便。Python中沒有定義NaN，除零操作會引發異常。  \n",
    "8) List 和Javascript的Array比較接近，而Tuple則解讀為不可改變的列表。  \n",
    "9) 不存在未初始化的值。如果一個變數值為空，則用 None 來表示。  \n",
    "10) Python中沒有全等，更接近自然語言。"
   ]
  },
  {
   "cell_type": "code",
   "execution_count": null,
   "metadata": {},
   "outputs": [],
   "source": []
  }
 ],
 "metadata": {
  "kernelspec": {
   "display_name": "Python 3",
   "language": "python",
   "name": "python3"
  },
  "language_info": {
   "codemirror_mode": {
    "name": "ipython",
    "version": 3
   },
   "file_extension": ".py",
   "mimetype": "text/x-python",
   "name": "python",
   "nbconvert_exporter": "python",
   "pygments_lexer": "ipython3",
   "version": "3.6.5"
  }
 },
 "nbformat": 4,
 "nbformat_minor": 2
}
